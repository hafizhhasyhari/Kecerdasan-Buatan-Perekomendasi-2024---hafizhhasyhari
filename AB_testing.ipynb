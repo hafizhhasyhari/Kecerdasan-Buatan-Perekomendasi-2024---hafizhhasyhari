{
 "cells": [
  {
   "cell_type": "markdown",
   "metadata": {},
   "source": [
    "# AB Testing"
   ]
  },
  {
   "cell_type": "markdown",
   "metadata": {},
   "source": [
    "##  Difference in two porportions test\n",
    "\n",
    "\n",
    "<b>Hypothesis Test</b>\n",
    "\n",
    "A one sided upper tail z-test for two porportions is conducted to test for lift in the unique open rate of the test group versus the control group. \n",
    "\n",
    "The test group unique open rate is defined as  \n",
    "$\\hat{p_1}=\\frac{x_1}{n_1}$\n",
    "\n",
    "The control group unique open rate is defined as  \n",
    "$\\hat{p_2}=\\frac{x_2}{n_2}$\n",
    "\n",
    "Where  \n",
    "$x_1$: number of unique opens in the test group.  \n",
    "$x_2$: number of unique opens in the control group.  \n",
    "$n_1$: sample size of the test group.  \n",
    "$n_2$: sample size of the control group.  \n",
    "\n",
    "Null hypothesis. The unique open rate for the test group is the same as the control group.  \n",
    "$H_0: \\hat{p_1}-\\hat{p_1}=0$ \n",
    "\n",
    "Alternative hypothesis. The unique open rate for the test group is larger than the control group.  \n",
    "$H_a: \\hat{p_1}\\geq\\hat{p_1}=0$ \n",
    "\n",
    "Test statistic  \n",
    "$z=$ $\\frac{\\hat{p_1}-\\hat{p_2}}{\\sqrt{\\frac{\\hat{p_1}(1-\\hat{p_1})}{n_1}+\\frac{\\hat{p_2}(1-\\hat{p_2})}{n_2}}}$\n",
    "\n",
    "The statistical significance of the test is 100(1-alpha)%. The the z_score for the test is \n",
    "$z^* = z_{1-1/\\alpha}$, and the z_score for the confidence interval is $z^*=z_{1-1/\\alpha/2}$\n",
    "\n",
    "The p-value $=P(Z>z)$ is the probability that results from the test data occurred by chance. The smaller the p_value,the greater the chance that the alternative hypothesis is true. \n",
    "\n",
    "We can reject the null hypothesis $H_0$ in favor of the alternative $H_A$ and conclude that the send time model provided lift to the unique open rate if $z \\geq z^*$, or if The p-value $< \\alpha$.\n",
    "\n",
    "<b>Confidence Interval</b>  \n",
    "The confidence interval can be used to measure the magnitude of the lift in the test group. \n",
    "\n",
    "$(\\hat{p_1}-\\hat{p_2})\\pm z^*\\sqrt{\\frac{\\hat{p_1}(1-\\hat{p_1})}{n_1}+\\frac{\\hat{p_2}(1-\\hat{p_2})}{n_2}}$\n",
    "\n",
    "<b>Calculating the required sample size</b>\n",
    "\n",
    "The minimum sample size for the test and control group $n_1$ and $n_2$ required to reach 100(1-alpha)% statistical significance is calculated as:\n",
    "\n",
    "$m^* = \\frac{\\left[z^*\\sqrt{(r+1)\\bar{p}(1-\\bar{p})}+ z_\\beta\\sqrt{rp_1(1-p_1)+p_2(1-p_2)}\\right]^2}{r\\delta^2}$\n",
    "\n",
    "$n1 = \\frac{m^*}{4}\\left[1+\\sqrt{1+\\frac{2(r+1)}{rm^*\\delta}}\\right]^2$   \n",
    "\n",
    "$n_2 = rn_1$  \n",
    "\n",
    "$N = (r+1)n_1$  \n",
    "\n",
    "Where   \n",
    "$\\delta=|p_2-p_1|$,  $\\bar{p}=\\frac{p_1+rp_2}{r+1}$, and $r=n_1/n_2$"
   ]
  },
  {
   "cell_type": "code",
   "execution_count": null,
   "metadata": {},
   "outputs": [],
   "source": [
    "from src.reinforcement_learning import TwoPorportionsTest"
   ]
  },
  {
   "cell_type": "code",
   "execution_count": 8,
   "metadata": {},
   "outputs": [
    {
     "name": "stdout",
     "output_type": "stream",
     "text": [
      "n1 = 2858\n",
      "n2 = 2981\n",
      "Total sample size = 5839\n"
     ]
    }
   ],
   "source": [
    "test = TwoPorportionsTest(alpha=0.05)\n",
    "test.get_sample_size(p_control=0.28, min_lift=0.03, r=3185/3054, tail=\"upper\")"
   ]
  },
  {
   "cell_type": "code",
   "execution_count": 10,
   "metadata": {},
   "outputs": [
    {
     "name": "stdout",
     "output_type": "stream",
     "text": [
      "test statistic z: 2.4325\n",
      "critical value z*: 1.6448536269514722\n",
      "Reject H0 in favor of Ha\n",
      "p-value: 0.007497495756488948\n"
     ]
    }
   ],
   "source": [
    "test.upper_tail_hypothesis_test(p1=0.2, p2=0.1, n1=100, n2=1000)"
   ]
  },
  {
   "cell_type": "code",
   "execution_count": 7,
   "metadata": {},
   "outputs": [
    {
     "name": "stdout",
     "output_type": "stream",
     "text": [
      "confidence interval: 0.0324 >= (p1-p2) <= 0.1676\n"
     ]
    }
   ],
   "source": [
    "test.confidence_interval(p1=0.2, p2=0.1, n1=100, n2=1000)"
   ]
  },
  {
   "cell_type": "code",
   "execution_count": null,
   "metadata": {},
   "outputs": [],
   "source": []
  }
 ],
 "metadata": {
  "kernelspec": {
   "display_name": "gridder_ds",
   "language": "python",
   "name": "gridder_ds"
  },
  "language_info": {
   "codemirror_mode": {
    "name": "ipython",
    "version": 3
   },
   "file_extension": ".py",
   "mimetype": "text/x-python",
   "name": "python",
   "nbconvert_exporter": "python",
   "pygments_lexer": "ipython3",
   "version": "3.6.8"
  }
 },
 "nbformat": 4,
 "nbformat_minor": 2
}
